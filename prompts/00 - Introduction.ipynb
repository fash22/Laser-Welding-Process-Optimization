{
 "cells": [
  {
   "cell_type": "code",
   "execution_count": 1,
   "metadata": {},
   "outputs": [],
   "source": [
    "import os\n",
    "import openai\n",
    "from dotenv import load_dotenv, find_dotenv\n",
    "_ = load_dotenv(find_dotenv()) # read local .env file\n",
    "\n",
    "openai.api_key  = os.environ['OPENAI_API_KEY']"
   ]
  },
  {
   "cell_type": "code",
   "execution_count": 2,
   "metadata": {},
   "outputs": [],
   "source": [
    "from IPython.display import HTML"
   ]
  },
  {
   "cell_type": "code",
   "execution_count": 3,
   "metadata": {},
   "outputs": [],
   "source": [
    "def get_completion_from_messages(messages, model=\"gpt-3.5-turbo\", temperature=0, max_tokens=1000):\n",
    "    response = openai.ChatCompletion.create(\n",
    "        model=model,\n",
    "        messages=messages,\n",
    "        temperature=temperature,\n",
    "        max_tokens=max_tokens,\n",
    "    )\n",
    "    return response.choices[0].message[\"content\"]"
   ]
  },
  {
   "cell_type": "code",
   "execution_count": 4,
   "metadata": {},
   "outputs": [],
   "source": [
    "project_intro_instructions = \"\"\"\n",
    "Help me write an academic article for my machine learning project.\n",
    "\n",
    "Create an introductory content for my article with the following outline:\n",
    "\n",
    "1. What is laser-welding process. Its purpose. Its advantage over other welding process.\n",
    "2. What are weldinging cracks. What are its impact on quality and cost.\n",
    "3. Business Problem: Reduce the cost of rework and scrap, and reduce risk of customer/market claim.\n",
    "4. The Problem statement: To find the optimial parameters/factors that can minimize weld cracks. To identify important features affecting weld cracks. To understand the effect of each parameter/factor of laser welding process on welding cracks.\n",
    "5. Methodology. Explain what is CRISP-DM. Explain how CRISP-DM can be used in solving the problem statement.\n",
    "6. What is the \"Screening datasets for laser welded steel-copper lap joints\" dataset. How can we use CRISP-DM to it to solve the problem statement\n",
    "\n",
    "While generating content, make sure that the following will be followed:\n",
    "1. Make it short, concise, but interesting.\n",
    "2. The tone should be professional, academic, technical, formal, and compelling.\n",
    "3. The copy should be cohesive and tells a compelling and interesting story.\n",
    "\n",
    "return your response in HTML\n",
    "\"\"\""
   ]
  },
  {
   "cell_type": "code",
   "execution_count": 6,
   "metadata": {},
   "outputs": [
    {
     "data": {
      "text/html": [
       "<!DOCTYPE html>\n",
       "<html>\n",
       "<head>\n",
       "\t<title>Introduction to Laser Welding and Welding Cracks</title>\n",
       "</head>\n",
       "<body>\n",
       "\t<h1>Introduction to Laser Welding and Welding Cracks</h1>\n",
       "\n",
       "\t<p>1. Laser welding is a process that utilizes a high-powered laser beam to join materials together. It is commonly used in various industries such as automotive, aerospace, and electronics. The purpose of laser welding is to create strong and precise welds with minimal heat input, resulting in reduced distortion and improved overall quality. Compared to traditional welding processes, laser welding offers several advantages including higher welding speeds, smaller heat-affected zones, and the ability to weld dissimilar materials.</p>\n",
       "\n",
       "\t<p>2. Welding cracks are defects that can occur during the welding process. These cracks can have a significant impact on the quality and cost of the final product. They can compromise the structural integrity of the weld, leading to potential failures and safety hazards. Additionally, the presence of welding cracks often requires rework or scrap, increasing production costs and causing delays. Therefore, it is crucial to minimize welding cracks to ensure the reliability and cost-effectiveness of the welding process.</p>\n",
       "\n",
       "\t<p>3. The business problem at hand is to reduce the cost of rework and scrap, as well as mitigate the risk of customer/market claims due to welding cracks. By addressing this problem, companies can improve their overall efficiency, reduce production costs, and enhance customer satisfaction.</p>\n",
       "\n",
       "\t<p>4. The problem statement focuses on finding the optimal parameters/factors that can minimize weld cracks. It aims to identify the important features that affect welding cracks and understand the effect of each parameter/factor in the laser welding process. By gaining insights into these factors, companies can make informed decisions and implement strategies to reduce welding cracks.</p>\n",
       "\n",
       "\t<p>5. The methodology employed in this project is based on the Cross-Industry Standard Process for Data Mining (CRISP-DM). CRISP-DM is a widely recognized and proven methodology for solving complex data mining problems. It provides a structured approach that encompasses six phases: business understanding, data understanding, data preparation, modeling, evaluation, and deployment. By following the CRISP-DM methodology, we can systematically analyze the data, develop models, and derive actionable insights to address the problem statement.</p>\n",
       "\n",
       "\t<p>6. The \"Screening datasets for laser welded steel-copper lap joints\" dataset is a valuable resource that can be utilized within the CRISP-DM framework to solve the problem statement. This dataset contains information on various parameters/factors related to laser welding, as well as the occurrence of welding cracks. By analyzing this dataset using CRISP-DM, we can uncover patterns, correlations, and dependencies that will enable us to identify the key factors influencing welding cracks and develop strategies to minimize their occurrence.</p>\n",
       "\n",
       "</body>\n",
       "</html>"
      ],
      "text/plain": [
       "<IPython.core.display.HTML object>"
      ]
     },
     "execution_count": 6,
     "metadata": {},
     "output_type": "execute_result"
    }
   ],
   "source": [
    "messages = [\n",
    "    {\n",
    "        \"role\": \"system\",\n",
    "        \"content\": project_intro_instructions\n",
    "    }\n",
    "]\n",
    "\n",
    "introduction = get_completion_from_messages(messages=messages)\n",
    "HTML(introduction)"
   ]
  },
  {
   "cell_type": "code",
   "execution_count": null,
   "metadata": {},
   "outputs": [
    {
     "data": {
      "text/html": [
       "Preface:\n",
       "\n",
       "Welcome to this article on laser welding and welding cracks. In this comprehensive guide, we will delve into the fascinating world of laser welding, exploring its applications, advantages, and the challenges associated with welding cracks. Laser welding is a cutting-edge process that has revolutionized various industries, enabling precise and efficient joining of materials. However, welding cracks can pose significant risks to the quality and cost-effectiveness of the welding process. Therefore, our objective in this study is to identify the optimal parameters and factors that can minimize welding cracks, ultimately improving product quality and reducing associated costs. By following the CRISP-DM methodology and analyzing the \"Screening datasets for laser welded steel-copper lap joints\" dataset, we will uncover valuable insights into the relationship between welding process parameters and welding cracks. Join us on this journey as we explore the intricacies of laser welding and discover effective strategies to mitigate welding cracks."
      ],
      "text/plain": [
       "<IPython.core.display.HTML object>"
      ]
     },
     "execution_count": 62,
     "metadata": {},
     "output_type": "execute_result"
    }
   ],
   "source": [
    "preface_generation = \"\"\"\n",
    "based on your previous response, generate a preface for this article. Ask me questions if you need it.\n",
    "Make sure to follow the rules you followed.\n",
    "\"\"\"\n",
    "\n",
    "messages = [\n",
    "    {\n",
    "        \"role\": \"system\",\n",
    "        \"content\": introduction\n",
    "    },\n",
    "    {\n",
    "        \"role\": \"system\",\n",
    "        \"content\": preface_generation\n",
    "    }\n",
    "]\n",
    "\n",
    "preface_generation = get_completion_from_messages(messages=messages)\n",
    "HTML(preface_generation)"
   ]
  }
 ],
 "metadata": {
  "kernelspec": {
   "display_name": "ChatGPT",
   "language": "python",
   "name": "python3"
  },
  "language_info": {
   "codemirror_mode": {
    "name": "ipython",
    "version": 3
   },
   "file_extension": ".py",
   "mimetype": "text/x-python",
   "name": "python",
   "nbconvert_exporter": "python",
   "pygments_lexer": "ipython3",
   "version": "3.10.12"
  },
  "orig_nbformat": 4
 },
 "nbformat": 4,
 "nbformat_minor": 2
}
