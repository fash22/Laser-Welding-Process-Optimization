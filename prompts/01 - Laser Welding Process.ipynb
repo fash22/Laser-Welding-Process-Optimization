{
 "cells": [
  {
   "cell_type": "code",
   "execution_count": 1,
   "metadata": {},
   "outputs": [],
   "source": [
    "import os\n",
    "import openai\n",
    "from dotenv import load_dotenv, find_dotenv\n",
    "_ = load_dotenv(find_dotenv()) # read local .env file\n",
    "\n",
    "openai.api_key  = os.environ['OPENAI_API_KEY']"
   ]
  },
  {
   "cell_type": "code",
   "execution_count": 2,
   "metadata": {},
   "outputs": [],
   "source": [
    "from IPython.display import HTML"
   ]
  },
  {
   "cell_type": "code",
   "execution_count": 3,
   "metadata": {},
   "outputs": [],
   "source": [
    "def get_completion_from_messages(messages, model=\"gpt-3.5-turbo\", temperature=0, max_tokens=1000):\n",
    "    response = openai.ChatCompletion.create(\n",
    "        model=model,\n",
    "        messages=messages,\n",
    "        temperature=temperature,\n",
    "        max_tokens=max_tokens,\n",
    "    )\n",
    "    return response.choices[0].message[\"content\"]"
   ]
  },
  {
   "cell_type": "code",
   "execution_count": 4,
   "metadata": {},
   "outputs": [
    {
     "data": {
      "text/html": [
       "The laser welding process used in this study involves joining steel and copper lap joints. The steel-copper lap joints were made by placing a steel sheet on top of a copper sheet and then using a high-powered laser beam to weld them together. The laser beam power, welding speed, angular position in the welding direction, focal position, gas flow rate, and material thickness of the steel sheet are the six factors that were varied in the welding process.\n",
       "\n",
       "The dataset used in this study was designed to evaluate the effects of these factors on the weld depth and geometrical dimensions of the weld metal in laser welded steel-copper lap joints. The dataset consists of 18 parameter combinations, with each combination repeated 5 times. Additionally, each sheet was cut 4 times, resulting in a total of 360 cross sections. Each line in the dataset represents a cross section that was evaluated for the dimensions of the weld metal.\n",
       "\n",
       "The dataset has two versions, V1 and V2. In V1, the laser beam power, welding speed, angular position, focal position, gas flow rate, and material thickness were varied within certain ranges. In V2, the ranges of these factors were expanded to cover a wider parameter space. The V1.1 and V2.1 versions of the dataset were created by adding additional data points to V1 and V2, respectively, to further explore the effects of the welding parameters on the dimensions of the weld metal."
      ],
      "text/plain": [
       "<IPython.core.display.HTML object>"
      ]
     },
     "execution_count": 4,
     "metadata": {},
     "output_type": "execute_result"
    }
   ],
   "source": [
    "intro = \"\"\"\n",
    "Laser welding is a process that utilizes a high-powered laser beam to join materials together. It is commonly used in various industries such as automotive, aerospace, and electronics. The purpose of laser welding is to create strong and precise welds with minimal heat input, resulting in reduced distortion and improved overall quality. Compared to traditional welding processes, laser welding offers several advantages including higher welding speeds, smaller heat-affected zones, and the ability to weld dissimilar materials.\n",
    "\n",
    "Welding cracks are defects that can occur during the welding process. These cracks can significantly impact the quality and cost of the final product. They can compromise the structural integrity of the weld, leading to potential failures and safety hazards. Additionally, the presence of welding cracks often requires rework or scrap, increasing production costs and causing delays. Therefore, it is crucial to minimize welding cracks to ensure high-quality and cost-effective welding operations.\n",
    "\n",
    "The aim of this project is to reduce the cost of rework and scrap, as well as minimize the risk of customer/market claims related to welding cracks. By identifying the optimal parameters and factors that can minimize welding cracks, businesses can improve their welding processes, enhance product quality, and reduce associated costs.\n",
    "\n",
    "The objective of this study is to find the optimal parameters/factors that can minimize welding cracks in laser welding. It involves identifying the important features that affect welding cracks and understanding the effect of each parameter/factor of the laser welding process on the occurrence of welding cracks.\n",
    "\n",
    "In this project, we will be utilizing the CRoss-Industry Standard Process for Data Mining (CRISP-DM) methodology. CRISP-DM is a widely recognized and proven approach for solving data mining problems. It consists of six phases: Business Understanding, Data Understanding, Data Preparation, Modeling, Evaluation, and Deployment. By following this methodology, we can systematically analyze the data, develop models, and evaluate their effectiveness in addressing the problem statement.\n",
    "\n",
    "The \"Screening datasets for laser welded steel-copper lap joints\" dataset will be used in this study. This dataset contains various parameters and factors related to laser welding, as well as information on the occurrence of welding cracks. By applying the CRISP-DM methodology to this dataset, we can gain insights into the relationship between the welding process parameters and welding cracks, and ultimately identify the optimal conditions for minimizing welding cracks.\n",
    "\"\"\"\n",
    "\n",
    "instructions = \"\"\"\n",
    "Discuss the laser welding process as explained in https://data.mendeley.com/datasets/2s5m3crbkd/2.\n",
    "Explain how steel-copper lap joins were made using laserwelding.\n",
    "Explain each of the six factors (laser beam power (W), welding speed (m/min), angular position in welding direction (°), focal positon (mm), gas flow rate (l/min), material thickness of the steel sheet (mm)).\n",
    "Explain how the dataset was designed and made. Give more effort in explaining this one.\n",
    "Explain the 18 parameter combinations on the weld depth and the geometrical dimensions of the weld metal in laser welded steel-copper joints in the lap configuration with steel on the top side. Every parameter combination was repeated 5 times and every sheet was cuttet 4 times to overall generate 360 cross sections. Every line in the dataset stands for a cross section which was evaluated regarding the dimensions of the weld metal.\n",
    "Explain the V1, V2, V1.1, and V2.1. What are the changes from V1 to V1.1, V2 to V2.1\n",
    "\"\"\"\n",
    "\n",
    "messages = [\n",
    "    {\n",
    "        \"role\": \"system\",\n",
    "        \"content\": \"read the introduction of my article for you to have contents.\"\n",
    "    },\n",
    "    {\n",
    "        \"role\": \"system\",\n",
    "        \"content\": intro\n",
    "    },\n",
    "    {\n",
    "        \"role\": \"system\",\n",
    "        \"content\": instructions\n",
    "    }\n",
    "]\n",
    "\n",
    "introduction = get_completion_from_messages(messages=messages)\n",
    "HTML(introduction)"
   ]
  },
  {
   "cell_type": "code",
   "execution_count": null,
   "metadata": {},
   "outputs": [],
   "source": []
  }
 ],
 "metadata": {
  "kernelspec": {
   "display_name": "ChatGPT",
   "language": "python",
   "name": "python3"
  },
  "language_info": {
   "codemirror_mode": {
    "name": "ipython",
    "version": 3
   },
   "file_extension": ".py",
   "mimetype": "text/x-python",
   "name": "python",
   "nbconvert_exporter": "python",
   "pygments_lexer": "ipython3",
   "version": "3.10.12"
  },
  "orig_nbformat": 4
 },
 "nbformat": 4,
 "nbformat_minor": 2
}
